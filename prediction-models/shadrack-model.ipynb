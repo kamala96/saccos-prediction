{
 "cells": [
  {
   "cell_type": "code",
   "execution_count": 2,
   "id": "97de9a6b",
   "metadata": {},
   "outputs": [],
   "source": [
    "# Data manipulation\n",
    "# ==============================================================================\n",
    "import numpy as np\n",
    "import pandas as pd\n",
    "\n",
    "# Plots\n",
    "# ==============================================================================\n",
    "import matplotlib.pyplot as plt\n",
    "plt.style.use('fivethirtyeight')\n",
    "plt.rcParams['lines.linewidth'] = 1.5\n",
    "import seaborn as sns\n",
    "sns.set(style=\"darkgrid\")\n",
    "%matplotlib inline\n",
    "\n",
    "# Modeling and Forecasting\n",
    "# ==============================================================================\n",
    "from sklearn.linear_model import LinearRegression\n",
    "from sklearn.linear_model import LogisticRegression\n",
    "from sklearn.svm import SVC\n",
    "# from sklearn.linear_model import Lasso\n",
    "from sklearn.ensemble import RandomForestRegressor\n",
    "# from sklearn.metrics import mean_squared_error\n",
    "# from sklearn.preprocessing import StandardScaler\n",
    "# from sklearn.pipeline import make_pipeline\n",
    "# from sklearn.linear_model import Ridge\n",
    "from sklearn.model_selection import train_test_split\n",
    "from sklearn.model_selection import KFold\n",
    "from sklearn.model_selection import StratifiedKFold\n",
    "from sklearn.model_selection import cross_val_score\n",
    "from sklearn.metrics import r2_score\n",
    "import statsmodels.api as sm\n",
    "\n",
    "from joblib import dump, load\n",
    "\n",
    "# Warnings configuration\n",
    "# ======================================================================================\n",
    "import warnings\n",
    "# warnings.filterwarnings('ignore')"
   ]
  },
  {
   "cell_type": "code",
   "execution_count": 2,
   "id": "2d9b0cdb",
   "metadata": {},
   "outputs": [],
   "source": [
    "def reading_data(file_name):\n",
    "    file_data = pd.read_csv(file_name)\n",
    "    return file_data"
   ]
  },
  {
   "cell_type": "code",
   "execution_count": 3,
   "id": "8327e910",
   "metadata": {},
   "outputs": [],
   "source": [
    "def pre_processing(data):\n",
    "    pd.set_option('display.float_format',  '{:,.2f}'.format)\n",
    "    data = data.rename(\n",
    "    columns={\n",
    "    'Month': 'date', 'Core capital': 'CC', 'Total assets': 'TA', 'Non-performing loans': 'NPL',\n",
    "    'Gross Loan Portifolio/Total loans': 'GLP-TL', 'Non-earning assets': 'NEA',\n",
    "    'General loan loss reserve': 'GLLR', 'Gross loans': 'GL', 'Write-offs': 'WO', 'Recoveries': 'RCV'})\n",
    "    data[[\"CC\", \"TA\", \"NPL\", \"GLP-TL\", \"GLLR\", \"GL\", \"WO\", \"RCV\"]] = data[[\"CC\", \"TA\", \"NPL\", \"GLP-TL\", \"GLLR\", \"GL\", \"WO\", \"RCV\"]].apply(pd.to_numeric)\n",
    "    data['date'] = pd.to_datetime(data['date'], format='%Y/%m/%d')\n",
    "    data = data.drop('xxxx', axis=1)\n",
    "    data = data.set_index('date')\n",
    "    return data"
   ]
  },
  {
   "cell_type": "code",
   "execution_count": 4,
   "id": "cebcce6a",
   "metadata": {},
   "outputs": [],
   "source": [
    "def handle_plain_negatives(row):\n",
    "    if row < 0:\n",
    "        # whatever  you logic\n",
    "        return 0\n",
    "    else:\n",
    "        return row"
   ]
  },
  {
   "cell_type": "code",
   "execution_count": 5,
   "id": "c9b0e07c",
   "metadata": {},
   "outputs": [],
   "source": [
    "def handle_percentage_negatives(row):\n",
    "    if row < 0:\n",
    "        # whatever  you logic\n",
    "        return 0\n",
    "    else:\n",
    "        return row * 100"
   ]
  },
  {
   "cell_type": "code",
   "execution_count": 6,
   "id": "090f1415",
   "metadata": {},
   "outputs": [],
   "source": [
    "def further_preprocessing(data):\n",
    "    # data['y1'] = data.apply(lambda row: row.CC / row.TA, axis = 1)\n",
    "    \n",
    "    #Capital adequacy\n",
    "    data[\"y1\"] = data[\"CC\"] / data[\"TA\"]\n",
    "    # data.loc[data['y1'] <= 0, 'y1'] = 0\n",
    "    # data.loc[data['y1'] > 0, 'y1'] = data['y1'] * 100\n",
    "    \n",
    "    #Asset quality 1\n",
    "    data[\"y2\"] = data[\"NPL\"] / data[\"GLP-TL\"]\n",
    "    \n",
    "    #Asset quality 2\n",
    "    data[\"y3\"] = data[\"NEA\"] / data[\"TA\"]\n",
    "    \n",
    "    #Asset quality 3\n",
    "    # data[\"y4\"] = data[\"GLLR\"] / data[\"GL\"]\n",
    "    \n",
    "    #Asset quality 4\n",
    "    # data[\"y5\"] = (data[\"WO\"]- data[\"RCV\"]) / data[\"TA\"]\n",
    "    \n",
    "    data = data.asfreq('M')\n",
    "    data = data.sort_index()\n",
    "    \n",
    "    # handling negative values\n",
    "    data[\"CC\"] =data[\"CC\"].apply(handle_plain_negatives)\n",
    "    data['TA'] = data['TA'].apply(handle_plain_negatives)\n",
    "    data[\"NPL\"] = data['NPL'].apply(handle_plain_negatives)\n",
    "    data[\"GLP-TL\"] = data['GLP-TL'].apply(handle_plain_negatives)\n",
    "    data[\"GLLR\"] = data['GLLR'].apply(handle_plain_negatives)\n",
    "    data[\"GL\"] = data['GL'].apply(handle_plain_negatives)\n",
    "    data[\"WO\"] = data['WO'].apply(handle_plain_negatives)\n",
    "    data[\"RCV\"] = data['RCV'].apply(handle_plain_negatives)\n",
    "    \n",
    "    data[\"y1\"] = data['y1'].apply(handle_percentage_negatives)\n",
    "    data[\"y2\"] = data['y2'].apply(handle_percentage_negatives)\n",
    "    return data\n",
    "    "
   ]
  },
  {
   "cell_type": "code",
   "execution_count": 7,
   "id": "3cfbfb5f",
   "metadata": {},
   "outputs": [],
   "source": [
    "def define_x_y(data, y_column):\n",
    "    if y_column == \"y1\":\n",
    "#         x = data_df.drop(['PE'], axis=1).values \n",
    "        x = data[['CC', 'TA']].values      \n",
    "        y = data[y_column]\n",
    "        return x, y\n",
    "    else:\n",
    "        return False    "
   ]
  },
  {
   "cell_type": "code",
   "execution_count": 8,
   "id": "b56058de",
   "metadata": {},
   "outputs": [],
   "source": [
    "def get_score(model, X_train, X_test, y_train, y_test):\n",
    "    model.fit(X_train, y_train)\n",
    "    return model.score(X_test, y_test)"
   ]
  },
  {
   "cell_type": "code",
   "execution_count": 24,
   "id": "8b4b14f3",
   "metadata": {},
   "outputs": [],
   "source": [
    "def save_model(model, name):\n",
    "    dump(model, name+'_model.joblib')"
   ]
  },
  {
   "cell_type": "code",
   "execution_count": 10,
   "id": "d5279a79",
   "metadata": {},
   "outputs": [
    {
     "data": {
      "text/html": [
       "<div>\n",
       "<style scoped>\n",
       "    .dataframe tbody tr th:only-of-type {\n",
       "        vertical-align: middle;\n",
       "    }\n",
       "\n",
       "    .dataframe tbody tr th {\n",
       "        vertical-align: top;\n",
       "    }\n",
       "\n",
       "    .dataframe thead th {\n",
       "        text-align: right;\n",
       "    }\n",
       "</style>\n",
       "<table border=\"1\" class=\"dataframe\">\n",
       "  <thead>\n",
       "    <tr style=\"text-align: right;\">\n",
       "      <th></th>\n",
       "      <th>CC</th>\n",
       "      <th>TA</th>\n",
       "      <th>NPL</th>\n",
       "      <th>GLP-TL</th>\n",
       "      <th>NEA</th>\n",
       "      <th>GLLR</th>\n",
       "      <th>GL</th>\n",
       "      <th>WO</th>\n",
       "      <th>RCV</th>\n",
       "      <th>y1</th>\n",
       "      <th>y2</th>\n",
       "      <th>y3</th>\n",
       "    </tr>\n",
       "    <tr>\n",
       "      <th>date</th>\n",
       "      <th></th>\n",
       "      <th></th>\n",
       "      <th></th>\n",
       "      <th></th>\n",
       "      <th></th>\n",
       "      <th></th>\n",
       "      <th></th>\n",
       "      <th></th>\n",
       "      <th></th>\n",
       "      <th></th>\n",
       "      <th></th>\n",
       "      <th></th>\n",
       "    </tr>\n",
       "  </thead>\n",
       "  <tbody>\n",
       "    <tr>\n",
       "      <th>2015-01-31</th>\n",
       "      <td>0.00</td>\n",
       "      <td>1,647,185,345.00</td>\n",
       "      <td>25605561</td>\n",
       "      <td>1471439693</td>\n",
       "      <td>162,450,652.00</td>\n",
       "      <td>0</td>\n",
       "      <td>0</td>\n",
       "      <td>0</td>\n",
       "      <td>0</td>\n",
       "      <td>0.00</td>\n",
       "      <td>1.74</td>\n",
       "      <td>0.10</td>\n",
       "    </tr>\n",
       "    <tr>\n",
       "      <th>2015-02-28</th>\n",
       "      <td>0.00</td>\n",
       "      <td>1,392,856,588.00</td>\n",
       "      <td>25605561</td>\n",
       "      <td>1179087930</td>\n",
       "      <td>200,973,658.00</td>\n",
       "      <td>0</td>\n",
       "      <td>0</td>\n",
       "      <td>0</td>\n",
       "      <td>0</td>\n",
       "      <td>0.00</td>\n",
       "      <td>2.17</td>\n",
       "      <td>0.14</td>\n",
       "    </tr>\n",
       "    <tr>\n",
       "      <th>2015-03-31</th>\n",
       "      <td>132,923,349.00</td>\n",
       "      <td>2,588,543,756.00</td>\n",
       "      <td>38147858</td>\n",
       "      <td>2348820110</td>\n",
       "      <td>226,428,646.00</td>\n",
       "      <td>0</td>\n",
       "      <td>0</td>\n",
       "      <td>0</td>\n",
       "      <td>0</td>\n",
       "      <td>5.14</td>\n",
       "      <td>1.62</td>\n",
       "      <td>0.09</td>\n",
       "    </tr>\n",
       "    <tr>\n",
       "      <th>2015-04-30</th>\n",
       "      <td>119,016,272.00</td>\n",
       "      <td>2,552,087,975.00</td>\n",
       "      <td>38147858</td>\n",
       "      <td>2222072340</td>\n",
       "      <td>316,720,635.00</td>\n",
       "      <td>0</td>\n",
       "      <td>0</td>\n",
       "      <td>0</td>\n",
       "      <td>0</td>\n",
       "      <td>4.66</td>\n",
       "      <td>1.72</td>\n",
       "      <td>0.12</td>\n",
       "    </tr>\n",
       "    <tr>\n",
       "      <th>2015-05-31</th>\n",
       "      <td>132,034,626.06</td>\n",
       "      <td>2,584,122,690.00</td>\n",
       "      <td>38147858</td>\n",
       "      <td>2251849017</td>\n",
       "      <td>318,978,673.00</td>\n",
       "      <td>0</td>\n",
       "      <td>0</td>\n",
       "      <td>0</td>\n",
       "      <td>0</td>\n",
       "      <td>5.11</td>\n",
       "      <td>1.69</td>\n",
       "      <td>0.12</td>\n",
       "    </tr>\n",
       "  </tbody>\n",
       "</table>\n",
       "</div>"
      ],
      "text/plain": [
       "                       CC               TA       NPL      GLP-TL  \\\n",
       "date                                                               \n",
       "2015-01-31           0.00 1,647,185,345.00  25605561  1471439693   \n",
       "2015-02-28           0.00 1,392,856,588.00  25605561  1179087930   \n",
       "2015-03-31 132,923,349.00 2,588,543,756.00  38147858  2348820110   \n",
       "2015-04-30 119,016,272.00 2,552,087,975.00  38147858  2222072340   \n",
       "2015-05-31 132,034,626.06 2,584,122,690.00  38147858  2251849017   \n",
       "\n",
       "                      NEA  GLLR  GL  WO  RCV   y1   y2   y3  \n",
       "date                                                         \n",
       "2015-01-31 162,450,652.00     0   0   0    0 0.00 1.74 0.10  \n",
       "2015-02-28 200,973,658.00     0   0   0    0 0.00 2.17 0.14  \n",
       "2015-03-31 226,428,646.00     0   0   0    0 5.14 1.62 0.09  \n",
       "2015-04-30 316,720,635.00     0   0   0    0 4.66 1.72 0.12  \n",
       "2015-05-31 318,978,673.00     0   0   0    0 5.11 1.69 0.12  "
      ]
     },
     "execution_count": 10,
     "metadata": {},
     "output_type": "execute_result"
    }
   ],
   "source": [
    "data = reading_data(\"saccoss-performance.csv\")\n",
    "data = pre_processing(data)\n",
    "data = further_preprocessing(data)\n",
    "data.head()"
   ]
  },
  {
   "cell_type": "code",
   "execution_count": 11,
   "id": "84fb0d10",
   "metadata": {},
   "outputs": [],
   "source": [
    "x_y_splits = define_x_y(data, \"y1\")\n",
    "X = x_y_splits[0]\n",
    "y = x_y_splits[1]"
   ]
  },
  {
   "cell_type": "code",
   "execution_count": 12,
   "id": "7135fb94",
   "metadata": {},
   "outputs": [],
   "source": [
    "X_train, X_test, y_train, y_test = train_test_split(X, y, test_size = 0.5, random_state = 0)"
   ]
  },
  {
   "cell_type": "code",
   "execution_count": 13,
   "id": "a8098676",
   "metadata": {},
   "outputs": [
    {
     "data": {
      "text/plain": [
       "array([0.99930436, 0.99904362, 0.99903948, 0.99727141, 0.99877632])"
      ]
     },
     "execution_count": 13,
     "metadata": {},
     "output_type": "execute_result"
    }
   ],
   "source": [
    "cross_val_score(LinearRegression(), X, y)"
   ]
  },
  {
   "cell_type": "code",
   "execution_count": 14,
   "id": "5c5cbb0c",
   "metadata": {},
   "outputs": [
    {
     "data": {
      "text/plain": [
       "array([1.        , 1.        , 0.99999863, 1.        , 1.        ])"
      ]
     },
     "execution_count": 14,
     "metadata": {},
     "output_type": "execute_result"
    }
   ],
   "source": [
    "cross_val_score(RandomForestRegressor(n_estimators=40), X, y)"
   ]
  },
  {
   "cell_type": "code",
   "execution_count": 15,
   "id": "09e58054",
   "metadata": {
    "scrolled": true
   },
   "outputs": [
    {
     "data": {
      "text/plain": [
       "LinearRegression()"
      ]
     },
     "execution_count": 15,
     "metadata": {},
     "output_type": "execute_result"
    }
   ],
   "source": [
    "ml_linear = LinearRegression()\n",
    "ml_linear.fit(X_train, y_train)"
   ]
  },
  {
   "cell_type": "code",
   "execution_count": 16,
   "id": "2f45a718",
   "metadata": {
    "scrolled": true
   },
   "outputs": [],
   "source": [
    "y_pred = ml_linear.predict(X_test)"
   ]
  },
  {
   "cell_type": "code",
   "execution_count": 17,
   "id": "3b5a0073",
   "metadata": {},
   "outputs": [
    {
     "data": {
      "text/plain": [
       "array([-0.39495414])"
      ]
     },
     "execution_count": 17,
     "metadata": {},
     "output_type": "execute_result"
    }
   ],
   "source": [
    "ml_linear.predict(np.array([[1,0]]))"
   ]
  },
  {
   "cell_type": "code",
   "execution_count": 25,
   "id": "615f0be6",
   "metadata": {},
   "outputs": [],
   "source": [
    "save_model(ml_linear, \"y1\")"
   ]
  },
  {
   "cell_type": "code",
   "execution_count": null,
   "id": "4fdaaf5e",
   "metadata": {},
   "outputs": [],
   "source": [
    "r2_score(y_test, y_pred)"
   ]
  },
  {
   "cell_type": "code",
   "execution_count": null,
   "id": "7b93bd39",
   "metadata": {},
   "outputs": [],
   "source": [
    "plt.figure(figsize=(9, 5))\n",
    "plt.scatter(y_test, y_pred)\n",
    "plt.xlabel('Actual')\n",
    "plt.ylabel('Predicted')\n",
    "plt.title('Actual vs. Predicted')"
   ]
  },
  {
   "cell_type": "code",
   "execution_count": null,
   "id": "702332b1",
   "metadata": {
    "scrolled": true
   },
   "outputs": [],
   "source": [
    "pred_y_df = pd.DataFrame({'Actual Value': y_test, 'Predicted Value': y_pred, 'Difference': y_test - y_pred})\n",
    "pred_y_df[0:20]"
   ]
  }
 ],
 "metadata": {
  "kernelspec": {
   "display_name": "Python 3 (ipykernel)",
   "language": "python",
   "name": "python3"
  },
  "language_info": {
   "codemirror_mode": {
    "name": "ipython",
    "version": 3
   },
   "file_extension": ".py",
   "mimetype": "text/x-python",
   "name": "python",
   "nbconvert_exporter": "python",
   "pygments_lexer": "ipython3",
   "version": "3.9.12"
  }
 },
 "nbformat": 4,
 "nbformat_minor": 5
}
